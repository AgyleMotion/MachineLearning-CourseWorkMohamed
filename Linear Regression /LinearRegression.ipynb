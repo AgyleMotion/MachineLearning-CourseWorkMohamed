{
 "cells": [
  {
   "cell_type": "markdown",
   "metadata": {},
   "source": [
    "# Linear Regression "
   ]
  },
  {
   "cell_type": "code",
   "execution_count": 121,
   "metadata": {},
   "outputs": [
    {
     "name": "stderr",
     "output_type": "stream",
     "text": [
      "No artists with labels found to put in legend.  Note that artists whose label start with an underscore are ignored when legend() is called with no argument.\n"
     ]
    },
    {
     "name": "stdout",
     "output_type": "stream",
     "text": [
      "Theta data frame = : \n",
      "              0\n",
      "0  25792.200199\n",
      "0   9449.962321\n",
      "Theta = : \n",
      "[[25792.20019867]\n",
      " [ 9449.96232146]]\n"
     ]
    },
    {
     "data": {
      "image/png": "[encoded data removed]",
      "text/plain": [
       "<Figure size 432x288 with 1 Axes>"
      ]
     },
     "metadata": {
      "needs_background": "light"
     },
     "output_type": "display_data"
    }
   ],
   "source": [
    "import numpy as np\n",
    "import pandas as pd\n",
    "import matplotlib.pyplot as plt\n",
    "\n",
    "df= pd.read_csv('salary_data.csv')\n",
    "x = df['YearsExperience'].values;\n",
    "y = df['Salary'].values;\n",
    "xframe=pd.DataFrame(data=x);\n",
    "yframe=pd.DataFrame(data=y)\n",
    "\n",
    "#Plot\n",
    "df.plot.scatter(x=\"YearsExperience\", y=\"Salary\",c=\"red\")\n",
    "\n",
    "#generate data frame of ones \n",
    "onesframe = pd.DataFrame(np.ones((xframe.size,1)))\n",
    "A= pd.concat([onesframe, xframe], axis=1)\n",
    "\n",
    "#computations of LHS\n",
    "transA=A.T; \n",
    "LHS = transA.dot(A);\n",
    "#compute inverse\n",
    "LHS = pd.DataFrame(np.linalg.pinv(LHS.values), LHS.columns, LHS.index);\n",
    "LHS = LHS.dot(transA);\n",
    "theta_df=LHS.dot(yframe);\n",
    "\n",
    "# print \"thetas\"\n",
    "print(\"Theta data frame = : \")\n",
    "print(theta_df)\n",
    "\n",
    "# convert data frame to numpy\n",
    "theta=theta_df.to_numpy()\n",
    "\n",
    "print(\"Theta = : \")\n",
    "print(theta)\n",
    "\n",
    "xx = np.linspace(0,11,100)\n",
    "yy = theta[1]*xx+theta[0]\n",
    "plt.plot(xx, yy, '-r')\n",
    "plt.title('Linear regression')\n",
    "plt.xlabel('x', color='#1C2833')\n",
    "plt.ylabel('y', color='#1C2833')\n",
    "plt.grid()\n",
    "plt.show()\n"
   ]
  },
  {
   "cell_type": "code",
   "execution_count": null,
   "metadata": {},
   "outputs": [],
   "source": [
    "\n"
   ]
  },
  {
   "cell_type": "code",
   "execution_count": null,
   "metadata": {},
   "outputs": [],
   "source": [
    "\n"
   ]
  }
 ],
 "metadata": {
  "kernelspec": {
   "display_name": "Python 3.9.12 ('base')",
   "language": "python",
   "name": "python3"
  },
  "language_info": {
   "codemirror_mode": {
    "name": "ipython",
    "version": 3
   },
   "file_extension": ".py",
   "mimetype": "text/x-python",
   "name": "python",
   "nbconvert_exporter": "python",
   "pygments_lexer": "ipython3",
   "version": "3.9.12"
  },
  "orig_nbformat": 4,
  "vscode": {
   "interpreter": {
    "hash": "b668d6f80cbae52e1cad6c91b734509c704b8ee7643b8f194f8f78d46d02edf0"
   }
  }
 },
 "nbformat": 4,
 "nbformat_minor": 2
}
