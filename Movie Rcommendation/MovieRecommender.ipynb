{
 "cells": [
  {
   "attachments": {},
   "cell_type": "markdown",
   "metadata": {},
   "source": [
    "# Movie Recommendations using Machine Learning\n",
    "# This code was developed by Mohamed Eraky : me500@scarletmail.rutgers.edu"
   ]
  },
  {
   "cell_type": "markdown",
   "metadata": {
    "id": "_eJZKjLwzNna"
   },
   "source": [
    "**Name:**  "
   ]
  },
  {
   "cell_type": "code",
   "execution_count": 252,
   "metadata": {
    "id": "75xbWQGNzkIg"
   },
   "outputs": [],
   "source": [
    "\n",
    "import numpy as np\n",
    "import pandas as pd"
   ]
  },
  {
   "cell_type": "markdown",
   "metadata": {
    "id": "60S7heeN0GiR"
   },
   "source": [
    "## Reading the Data\n",
    "Now that we have downloaded the files from the link above and placed them in the same directory as this Jupyter Notebook, we can load each of the tables of data as a CSV into Pandas. Execute the following, provided code."
   ]
  },
  {
   "cell_type": "code",
   "execution_count": 253,
   "metadata": {
    "colab": {
     "base_uri": "https://localhost:8080/"
    },
    "id": "1biZX5iFzOOi",
    "outputId": "2154c7e4-cc85-4d40-e3ac-6e46e8b16ee6",
    "scrolled": true
   },
   "outputs": [],
   "source": [
    "# Read the dataset from the two files into ratings_data and movies_data\n",
    "column_list_ratings = [\"UserID\", \"MovieID\", \"Ratings\",\"Timestamp\"]\n",
    "ratings_data  = pd.read_csv('ratings.dat',sep='::',names = column_list_ratings, engine='python')\n",
    "column_list_movies = [\"MovieID\",\"Title\",\"Genres\"]\n",
    "movies_data = pd.read_csv('movies.dat',sep = '::',names = column_list_movies, engine='python',encoding='ISO-8859-1')\n",
    "column_list_users = [\"UserID\",\"Gender\",\"Age\",\"Occupation\",\"Zixp-code\"]\n",
    "user_data = pd.read_csv(\"users.dat\",sep = \"::\",names = column_list_users, engine='python')"
   ]
  },
  {
   "cell_type": "code",
   "execution_count": 277,
   "metadata": {},
   "outputs": [],
   "source": [
    "### use numpy to create a ratings data matrix\n",
    "nr_users = np.max(ratings_data.UserID.values)\n",
    "nr_movies = np.max(ratings_data.MovieID.values)\n",
    "ratings_matrix = np.ndarray(shape=(nr_users, nr_movies),dtype=np.uint8)"
   ]
  },
  {
   "cell_type": "code",
   "execution_count": 278,
   "metadata": {},
   "outputs": [],
   "source": [
    "ratings_matrix[ratings_data.UserID.values - 1, ratings_data.MovieID.values - 1] = ratings_data.Ratings.values"
   ]
  },
  {
   "cell_type": "code",
   "execution_count": 276,
   "metadata": {},
   "outputs": [
    {
     "name": "stdout",
     "output_type": "stream",
     "text": [
      "sample of 10x10 of rating matrix:\n",
      " [[ 1.7587341  -0.34446173 -0.27495584 -0.15931661 -0.2143282  -0.41529223\n",
      "  -0.27447136 -0.10175063 -0.12185716 -0.4005674 ]\n",
      " [-0.70171755 -0.34446173 -0.27495584 -0.15931661 -0.2143282  -0.41529223\n",
      "  -0.27447136 -0.10175063 -0.12185716 -0.4005674 ]\n",
      " [-0.70171755 -0.34446173 -0.27495584 -0.15931661 -0.2143282  -0.41529223\n",
      "  -0.27447136 -0.10175063 -0.12185716 -0.4005674 ]\n",
      " [-0.70171755 -0.34446173 -0.27495584 -0.15931661 -0.2143282  -0.41529223\n",
      "  -0.27447136 -0.10175063 -0.12185716 -0.4005674 ]\n",
      " [-0.70171755 -0.34446173 -0.27495584 -0.15931661 -0.2143282   0.96066227\n",
      "  -0.27447136 -0.10175063 -0.12185716 -0.4005674 ]\n",
      " [ 1.26664377 -0.34446173 -0.27495584 -0.15931661 -0.2143282  -0.41529223\n",
      "  -0.27447136 -0.10175063 -0.12185716 -0.4005674 ]\n",
      " [-0.70171755 -0.34446173 -0.27495584 -0.15931661 -0.2143282   2.33661676\n",
      "  -0.27447136 -0.10175063 -0.12185716 -0.4005674 ]\n",
      " [ 1.26664377 -0.34446173 -0.27495584  6.06227179 -0.2143282  -0.41529223\n",
      "  -0.27447136 -0.10175063 -0.12185716 -0.4005674 ]\n",
      " [ 1.7587341  -0.34446173 -0.27495584 -0.15931661 -0.2143282  -0.41529223\n",
      "  -0.27447136 -0.10175063 -0.12185716 -0.4005674 ]\n",
      " [ 1.7587341   4.29134229 -0.27495584 -0.15931661 -0.2143282  -0.41529223\n",
      "   3.97087313 -0.10175063 -0.12185716 -0.4005674 ]]\n",
      "shape of ratings_matrix: (6040, 3952)\n"
     ]
    }
   ],
   "source": [
    "# Print the shape\n",
    "print(\"sample of 10x10 of rating matrix:\\n\", ratings_matrix[:10,:10])\n",
    "print(\"shape of ratings_matrix:\",ratings_matrix.shape)"
   ]
  },
  {
   "cell_type": "markdown",
   "metadata": {},
   "source": [
    "## Question 2"
   ]
  },
  {
   "attachments": {},
   "cell_type": "markdown",
   "metadata": {},
   "source": [
    "Normalize the ratings matrix using Z-score normalization. \n",
    "\n",
    "- All of the `NaN` values in the dataset should be replaced with the average rating for the given movie. This is a complex topic, but for our case replacing empty values with the mean will make it so that the absence of a rating doesn't affect the overall average, and it provides an \"expected value\" which is useful for computing correlations and recommendations in later steps. \n",
    "- Your first step should be to get the average of every *column* of the ratings matrix (we want an average by title, not just by user!).\n",
    "- Second, we want to subtract the average from the original ratings thus allowing us to get a mean of 0 in every column. It may be very close but not exactly zero because of the limited precision `float`s allow."
   ]
  },
  {
   "cell_type": "code",
   "execution_count": 279,
   "metadata": {},
   "outputs": [
    {
     "name": "stderr",
     "output_type": "stream",
     "text": [
      "/var/folders/j9/25tj84tj66nfrw58nbxz_0f80000gn/T/ipykernel_59783/4165226112.py:1: RuntimeWarning: invalid value encountered in true_divide\n",
      "  ratings_matrix = (ratings_matrix - ratings_matrix.mean(axis = 0))/ratings_matrix.std(axis = 0) #normalize the data\n"
     ]
    }
   ],
   "source": [
    "ratings_matrix = (ratings_matrix - ratings_matrix.mean(axis = 0))/ratings_matrix.std(axis = 0) #normalize the data"
   ]
  },
  {
   "cell_type": "code",
   "execution_count": 280,
   "metadata": {},
   "outputs": [],
   "source": [
    "ratings_matrix[np.isnan(ratings_matrix)] = 0 #replace nan values with 0."
   ]
  },
  {
   "cell_type": "code",
   "execution_count": 281,
   "metadata": {},
   "outputs": [
    {
     "name": "stdout",
     "output_type": "stream",
     "text": [
      "sample of 10x10 of Normalized rating matrix:\n",
      " [[ 1.7587341  -0.34446173 -0.27495584 -0.15931661 -0.2143282  -0.41529223\n",
      "  -0.27447136 -0.10175063 -0.12185716 -0.4005674 ]\n",
      " [-0.70171755 -0.34446173 -0.27495584 -0.15931661 -0.2143282  -0.41529223\n",
      "  -0.27447136 -0.10175063 -0.12185716 -0.4005674 ]\n",
      " [-0.70171755 -0.34446173 -0.27495584 -0.15931661 -0.2143282  -0.41529223\n",
      "  -0.27447136 -0.10175063 -0.12185716 -0.4005674 ]\n",
      " [-0.70171755 -0.34446173 -0.27495584 -0.15931661 -0.2143282  -0.41529223\n",
      "  -0.27447136 -0.10175063 -0.12185716 -0.4005674 ]\n",
      " [-0.70171755 -0.34446173 -0.27495584 -0.15931661 -0.2143282   0.96066227\n",
      "  -0.27447136 -0.10175063 -0.12185716 -0.4005674 ]\n",
      " [ 1.26664377 -0.34446173 -0.27495584 -0.15931661 -0.2143282  -0.41529223\n",
      "  -0.27447136 -0.10175063 -0.12185716 -0.4005674 ]\n",
      " [-0.70171755 -0.34446173 -0.27495584 -0.15931661 -0.2143282   2.33661676\n",
      "  -0.27447136 -0.10175063 -0.12185716 -0.4005674 ]\n",
      " [ 1.26664377 -0.34446173 -0.27495584  6.06227179 -0.2143282  -0.41529223\n",
      "  -0.27447136 -0.10175063 -0.12185716 -0.4005674 ]\n",
      " [ 1.7587341  -0.34446173 -0.27495584 -0.15931661 -0.2143282  -0.41529223\n",
      "  -0.27447136 -0.10175063 -0.12185716 -0.4005674 ]\n",
      " [ 1.7587341   4.29134229 -0.27495584 -0.15931661 -0.2143282  -0.41529223\n",
      "   3.97087313 -0.10175063 -0.12185716 -0.4005674 ]]\n",
      "shape of Normalized ratings_matrix: (6040, 3952)\n"
     ]
    }
   ],
   "source": [
    "print(\"sample of 10x10 of Normalized rating matrix:\\n\", ratings_matrix[:10,:10])\n",
    "print(\"shape of Normalized ratings_matrix:\",ratings_matrix.shape)"
   ]
  },
  {
   "cell_type": "markdown",
   "metadata": {},
   "source": [
    "SVD COMPUTATION OF NORMALIZED MATRIX"
   ]
  },
  {
   "cell_type": "code",
   "execution_count": 260,
   "metadata": {},
   "outputs": [],
   "source": [
    "U, S, vh = np.linalg.svd(ratings_matrix, full_matrices=False) # vh is VT"
   ]
  },
  {
   "cell_type": "code",
   "execution_count": 274,
   "metadata": {},
   "outputs": [
    {
     "name": "stdout",
     "output_type": "stream",
     "text": [
      "shape of U: (6040, 3952)\n",
      "shape of S: (3952,)\n",
      "shape of vT: (3952, 3952)\n"
     ]
    }
   ],
   "source": [
    "\n",
    "print(\"shape of U:\",U.shape)\n",
    "print(\"shape of S:\",S.shape)\n",
    "print(\"shape of vT:\",vh.shape)\n"
   ]
  },
  {
   "cell_type": "markdown",
   "metadata": {},
   "source": [
    "Verification of SVD computation"
   ]
  },
  {
   "cell_type": "code",
   "execution_count": 262,
   "metadata": {},
   "outputs": [
    {
     "name": "stdout",
     "output_type": "stream",
     "text": [
      "shape of S diagonal: \n",
      " (3952, 3952)\n",
      "\n",
      "ver: [[ 1.7587341  -0.34446173 -0.27495584 -0.15931661 -0.2143282 ]\n",
      " [-0.70171755 -0.34446173 -0.27495584 -0.15931661 -0.2143282 ]\n",
      " [-0.70171755 -0.34446173 -0.27495584 -0.15931661 -0.2143282 ]\n",
      " [-0.70171755 -0.34446173 -0.27495584 -0.15931661 -0.2143282 ]\n",
      " [-0.70171755 -0.34446173 -0.27495584 -0.15931661 -0.2143282 ]]\n",
      "ratings_matrix:\n",
      " [[ 1.7587341  -0.34446173 -0.27495584 -0.15931661 -0.2143282 ]\n",
      " [-0.70171755 -0.34446173 -0.27495584 -0.15931661 -0.2143282 ]\n",
      " [-0.70171755 -0.34446173 -0.27495584 -0.15931661 -0.2143282 ]\n",
      " [-0.70171755 -0.34446173 -0.27495584 -0.15931661 -0.2143282 ]\n",
      " [-0.70171755 -0.34446173 -0.27495584 -0.15931661 -0.2143282 ]]\n"
     ]
    }
   ],
   "source": [
    "S_diagonal=np.diag(S) #DIAGONALIZATION\n",
    "print(\"shape of S diagonal: \\n\",S_diagonal.shape)\n",
    "print ()\n",
    "c = np.matmul(U,S_diagonal )\n",
    "ver=np.matmul(c,vh)\n",
    "print(\"ver:\",ver [:5,:5])\n",
    "print(\"ratings_matrix:\\n\",ratings_matrix[:5,:5])"
   ]
  },
  {
   "cell_type": "markdown",
   "metadata": {},
   "source": [
    "Slicing with different K"
   ]
  },
  {
   "cell_type": "code",
   "execution_count": 263,
   "metadata": {},
   "outputs": [
    {
     "name": "stdout",
     "output_type": "stream",
     "text": [
      " U1:\n",
      " [[ 0.00694592  0.00033918  0.00161647]\n",
      " [ 0.00280136  0.0009485   0.00016381]\n",
      " [ 0.00701156 -0.0025459  -0.00127488]\n",
      " ...\n",
      " [ 0.00885949  0.00110523 -0.00037722]\n",
      " [ 0.00316321  0.01140523 -0.00676983]\n",
      " [-0.00764705  0.03203913 -0.00023632]]\n",
      " s1:\n",
      " [[1238.60598482    0.            0.        ]\n",
      " [   0.          717.43506225    0.        ]\n",
      " [   0.            0.          578.64240044]]\n",
      " vh1:\n",
      " [[-0.02452332 -0.01142005  0.01352385]\n",
      " [-0.02737761 -0.02607295 -0.00457039]\n",
      " [-0.0198921  -0.02235377  0.01523321]\n",
      " ...\n",
      " [-0.01188253  0.01064472  0.00491984]\n",
      " [-0.00435173  0.01196432  0.01364856]\n",
      " [-0.01401484  0.00956447  0.02197116]]\n",
      "shape of U1: (6040, 3)\n",
      "shape of S1: (3, 3)\n",
      "shape of vh1: (3952, 3)\n",
      "shape of R1: (6040, 3952)\n",
      "user rating  -0.2936290749948192\n",
      "Shape of R2: (6040, 3952)\n",
      "User rating  -0.22777199512279936\n",
      "Shape of R3: (6040, 3952)\n",
      "User rating  -0.19244551852973074\n",
      "User rating  -0.3837378301326029\n"
     ]
    }
   ],
   "source": [
    "k1=3\n",
    "U1=U[:,:k1]\n",
    "S1=S_diagonal[:k1,:k1]\n",
    "vh1=vh.T[:,:k1]\n",
    "print(\" U1:\\n\",U1)\n",
    "print(\" s1:\\n\",S1)\n",
    "print(\" vh1:\\n\",vh1)\n",
    "\n",
    "print(\"shape of U1:\",U1.shape)\n",
    "print(\"shape of S1:\",S1.shape)\n",
    "print(\"shape of vh1:\",vh1.shape)\n",
    "\n",
    "step1 = np.matmul(U1,S1 )\n",
    "R1=np.matmul(step1,vh1.T)\n",
    "print(\"shape of R1:\",R1.shape)\n",
    "print(\"user rating \", R1[0,1376])\n",
    "\n",
    "k2=1000\n",
    "U2=U[:,:k2]\n",
    "S2=S_diagonal[:k2,:k2]\n",
    "vh2=vh[:k2,:]\n",
    "step2 = np.matmul(U2,S2 )\n",
    "R2=np.matmul(step2,vh2)\n",
    "print(\"Shape of R2:\",R2.shape)\n",
    "print(\"User rating \", R2[50,1377])\n",
    "\n",
    "k3=2000\n",
    "U3=U[:,:k3]\n",
    "S3=S_diagonal[:k3,:k3]\n",
    "vh3=vh[:k3,:]\n",
    "step3 = np.matmul(U3,S3 )\n",
    "R3=np.matmul(step3,vh3)\n",
    "print(\"Shape of R3:\",R3.shape)\n",
    "print(\"User rating \", R3[0,1376])\n",
    "\n",
    "k4=3000\n",
    "U4=U[:,:k4]\n",
    "S4=S_diagonal[:k4,:k4]\n",
    "vh4=vh[:k4,:]\n",
    "step4 = np.matmul(U4,S4 )\n",
    "R4=np.matmul(step4,vh4)\n",
    "print(\"User rating \", R4[0,1376])\n",
    "\n",
    "\n",
    "\n",
    "\n",
    "\n",
    "\n",
    "\n",
    "\n"
   ]
  },
  {
   "cell_type": "code",
   "execution_count": 264,
   "metadata": {},
   "outputs": [],
   "source": [
    "def top_cosine_similarity(ratings_data , MovieID, top_n=10):\n",
    "    index = MovieID - 1 # Movie id starts from 1\n",
    "    movie_row = ratings_data [index, :]\n",
    "    magnitude = np.sqrt(np.einsum('ij, ij -> i', ratings_data , ratings_data ))\n",
    "    similarity = np.dot(movie_row, ratings_data.T) / (magnitude[index] * magnitude)\n",
    "    sort_indexes = np.argsort(-similarity)\n",
    "    return sort_indexes[:top_n]\n",
    "\n",
    "# Helper function to print top N similar movies\n",
    "def print_similar_movies(movies_data, MovieID, top_indexes):\n",
    "    print('Recommendations for {0}: \\n'.format(\n",
    "    movies_data[movies_data.MovieID == MovieID].Title.values[0]))\n",
    "    for id in top_indexes + 1:\n",
    "        print(movies_data[movies_data.MovieID == id].Title.values[0])"
   ]
  },
  {
   "attachments": {},
   "cell_type": "markdown",
   "metadata": {},
   "source": [
    "User Input only : Movie will be recommended "
   ]
  },
  {
   "cell_type": "code",
   "execution_count": 267,
   "metadata": {},
   "outputs": [
    {
     "name": "stdout",
     "output_type": "stream",
     "text": [
      "Recommendations for Batman Returns (1992): \n",
      "\n",
      "Batman Returns (1992)\n",
      "Batman Forever (1995)\n",
      "Dick Tracy (1990)\n",
      "Lethal Weapon 4 (1998)\n",
      "GoldenEye (1995)\n"
     ]
    },
    {
     "name": "stderr",
     "output_type": "stream",
     "text": [
      "/var/folders/j9/25tj84tj66nfrw58nbxz_0f80000gn/T/ipykernel_59783/4128321246.py:5: RuntimeWarning: invalid value encountered in true_divide\n",
      "  similarity = np.dot(movie_row, ratings_data.T) / (magnitude[index] * magnitude)\n"
     ]
    }
   ],
   "source": [
    "k = 50                                                   # sorting based on matrix reduction \n",
    "movie_id = 1377                                          # Movie ID\n",
    "top_n = 5                                                # select only top 5 movies \n",
    "sliced = vh.T[:, :k]                                     # sliced matrix \n",
    "indexes = top_cosine_similarity(sliced, movie_id, top_n) # index sorting\n",
    "print_similar_movies(movies_data, movie_id, indexes)     # print similar movie"
   ]
  }
 ],
 "metadata": {
  "colab": {
   "name": "Assignment 2 solutions.ipynb",
   "provenance": []
  },
  "kernelspec": {
   "display_name": "Python 3.9.12 ('base')",
   "language": "python",
   "name": "python3"
  },
  "language_info": {
   "codemirror_mode": {
    "name": "ipython",
    "version": 3
   },
   "file_extension": ".py",
   "mimetype": "text/x-python",
   "name": "python",
   "nbconvert_exporter": "python",
   "pygments_lexer": "ipython3",
   "version": "3.9.12"
  },
  "vscode": {
   "interpreter": {
    "hash": "b668d6f80cbae52e1cad6c91b734509c704b8ee7643b8f194f8f78d46d02edf0"
   }
  }
 },
 "nbformat": 4,
 "nbformat_minor": 1
}
